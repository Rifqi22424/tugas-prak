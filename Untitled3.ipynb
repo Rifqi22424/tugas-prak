{
 "cells": [
  {
   "cell_type": "code",
   "execution_count": 6,
   "metadata": {},
   "outputs": [
    {
     "name": "stdout",
     "output_type": "stream",
     "text": [
      "Belajar Python\n",
      "B 4 l 4 j 4 r   P y t h 4 n\n"
     ]
    }
   ],
   "source": [
    "vokal = ['a','e', 'i', 'u', 'o']\n",
    "\n",
    "kalimat = input()\n",
    "new_kalimat = []\n",
    "\n",
    "for kata in kalimat:\n",
    "    new_kata = kata\n",
    "    for huruf in kata:\n",
    "        if huruf in vokal:\n",
    "            new_kata = new_kata.replace(huruf,\"4\")\n",
    "        new_kalimat += new_kata\n",
    "\n",
    "kalimat_akhir = \" \".join(new_kalimat)\n",
    "print(kalimat_akhir)\n",
    "\n",
    "#maap pak baru bisa segini"
   ]
  }
 ],
 "metadata": {
  "kernelspec": {
   "display_name": "Python 3",
   "language": "python",
   "name": "python3"
  },
  "language_info": {
   "codemirror_mode": {
    "name": "ipython",
    "version": 3
   },
   "file_extension": ".py",
   "mimetype": "text/x-python",
   "name": "python",
   "nbconvert_exporter": "python",
   "pygments_lexer": "ipython3",
   "version": "3.8.5"
  }
 },
 "nbformat": 4,
 "nbformat_minor": 4
}
